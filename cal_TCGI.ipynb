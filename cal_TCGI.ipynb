{
 "cells": [
  {
   "cell_type": "markdown",
   "id": "a348f21a-a865-46ba-a05d-eeda76286fb8",
   "metadata": {},
   "source": [
    "# Calculate TCGI\n",
    "\n",
    "Input Predictor: (ref. Camargo et al, 2014)\n",
    "- Vorticity: clipped at $3.7 * 10^{-5}$ absolute vorticity @ 850-hPa [$1*10^{-5} s^{-1}$]\n",
    "- Humidity: column-relative humidity [%]\n",
    "- Thermal: potential intensity [m/s]\n",
    "- Shear: vertical shear between the 850- and 200-hPa [m/s]\n",
    "\n",
    "Coefficients:\n",
    "- b (constant)\n",
    "- bv, bh, bt, bs (corresponding to four predictors above)"
   ]
  },
  {
   "cell_type": "code",
   "execution_count": 1,
   "id": "8445ae84-5c48-4f03-854e-32403f1766d2",
   "metadata": {
    "execution": {
     "iopub.execute_input": "2024-02-29T03:52:09.398267Z",
     "iopub.status.busy": "2024-02-29T03:52:09.397708Z",
     "iopub.status.idle": "2024-02-29T03:52:10.906374Z",
     "shell.execute_reply": "2024-02-29T03:52:10.905647Z",
     "shell.execute_reply.started": "2024-02-29T03:52:09.398226Z"
    }
   },
   "outputs": [],
   "source": [
    "import xarray as xr\n",
    "import numpy as np\n",
    "import xesmf as xe\n",
    "import glob\n",
    "import os\n",
    "import re\n",
    "import matplotlib.pyplot as plt\n",
    "import matplotlib.colors as mcolors\n",
    "import cartopy.crs as ccrs\n",
    "import cartopy.feature as cfeature\n",
    "import cartopy.mpl.ticker as cticker\n",
    "from cartopy.mpl.gridliner import LONGITUDE_FORMATTER, LATITUDE_FORMATTER\n",
    "import matplotlib.ticker as mticker\n",
    "import warnings"
   ]
  },
  {
   "cell_type": "code",
   "execution_count": 4,
   "id": "2fc17215-5d99-4b3e-8775-107bae5b7638",
   "metadata": {
    "execution": {
     "iopub.execute_input": "2024-02-29T03:52:41.390532Z",
     "iopub.status.busy": "2024-02-29T03:52:41.389868Z",
     "iopub.status.idle": "2024-02-29T03:52:41.401490Z",
     "shell.execute_reply": "2024-02-29T03:52:41.400247Z",
     "shell.execute_reply.started": "2024-02-29T03:52:41.390486Z"
    }
   },
   "outputs": [],
   "source": [
    "models = ['MPI-ESM1-2-XR', 'CNRM-CM6-1-HR', \n",
    "          'HadGEM3-GC31-HM', 'HadGEM3-GC31-HM', 'HadGEM3-GC31-HM', \n",
    "          'EC-Earth3P-HR', 'EC-Earth3P-HR', 'EC-Earth3P-HR', 'EC-Earth3P-HR']\n",
    "ens = ['r1i1p1f1', 'r1i1p1f2', \n",
    "       'r1i1p1f1', 'r1i2p1f1', 'r1i3p1f1',  \n",
    "       'r1i1p2f1', 'r2i1p2f1', 'r1i1p1f1', 'r2i1p1f1', ]\n",
    "experiments = ['highres_hm', 'highresSST_hm', 'highres_sm', 'highresSST_sm']\n",
    "experiments_clim = ['highres', 'highresSST']\n",
    "input = ['avort', 'swv', 'prw', 'PI', 'ws']\n",
    "output = ['avort', 'crh', 'sd', 'PI', 'ws']\n",
    "\n",
    "# Define the output for regridder with the horizontal resolution of 2*2deg\n",
    "resolution = 2 \n",
    "ds_out = xr.Dataset({'lat': (['lat'], np.arange(-90, 90+resolution, resolution)), \n",
    "                     'lon': (['lon'], np.arange(0, 360, resolution))})"
   ]
  },
  {
   "cell_type": "markdown",
   "id": "6127cce3-5ba5-4f31-a67b-04c60e6e0ef2",
   "metadata": {},
   "source": [
    "### 1. Regrid varibales to 2*2 deg, Apply land mask\n",
    "\n",
    "Original varibales and corresponding calculation codes\n",
    "- avort (./calculation/calculate_avort.py)\n",
    "- ws (./calculation/calculate_ws.py)\n",
    "- swv (./calculation/calculate_swv.py)\n",
    "- prw (direct output from models)\n",
    "- PI (./calculation/tcpyPI/run_PI_highresmip)\n",
    "- data storage path: /data0/yxia/TCGI/\n",
    "\n",
    "A little calculation\n",
    "- avort = abs(avort * 1e+05).clip(min=None, max=3.7)\n",
    "- crh = prw / swv * 100\n",
    "- sd = prw - swv\n",
    "\n",
    "For PI & swv & prw, to avoid strange values in the coastal area after regrid\n",
    "- Using the model's original mask to identify the land area.\n",
    "- Fill the land area with zonal mean climatology PI at each latitude.\n",
    "\n",
    "Saved files (path: /data0/yxia/TCGI/2deg)\n",
    "- avort, ws, PI, crh, sd\n",
    "\n",
    "Note: Land mask has a resolution of 2*2 deg (Source: WorldBath)"
   ]
  },
  {
   "cell_type": "code",
   "execution_count": 3,
   "id": "3472f106-328d-442d-80ed-346b1879b0d7",
   "metadata": {
    "execution": {
     "iopub.execute_input": "2024-01-17T14:14:53.196628Z",
     "iopub.status.busy": "2024-01-17T14:14:53.196035Z",
     "iopub.status.idle": "2024-01-17T14:14:53.206022Z",
     "shell.execute_reply": "2024-01-17T14:14:53.204983Z",
     "shell.execute_reply.started": "2024-01-17T14:14:53.196588Z"
    }
   },
   "outputs": [],
   "source": [
    "def replace_land(file_path, imodel, input_var):\n",
    "    input_var = \"vmax\" if input_var == \"PI\" else input_var\n",
    "    dataset = xr.open_dataset(file_path)\n",
    "    \n",
    "    # Input model's original land mask\n",
    "    sftlf = xr.open_dataset(f\"/data0/yxia/TCGI/mask/sftlf_{imodel}.nc\").sftlf\n",
    "    model_mask = sftlf.where(sftlf==0)\n",
    "    \n",
    "    # Get the climatology for every latitudes\n",
    "    dataset_masked = dataset[input_var].where((model_mask == 0).data)\n",
    "    ds_clim = dataset_masked.mean('time').mean(dim='lon', skipna=True)\n",
    "    lat_mean = ds_clim.expand_dims(dim={'lon': dataset['lon'].data}, axis=-1)\n",
    "    \n",
    "    # Replace the land area with 'lat_mean'\n",
    "    ds_smoothed = dataset[input_var].where((model_mask == 0).data, other=lat_mean)\n",
    "    # drop coordinate 'type' if it exists\n",
    "    ds_smoothed = ds_smoothed.drop_vars('type') if 'type' in ds_smoothed.coords else ds_smoothed\n",
    "    return ds_smoothed"
   ]
  },
  {
   "cell_type": "code",
   "execution_count": 4,
   "id": "483bb57b-0592-408b-b465-1ca463de0afe",
   "metadata": {
    "execution": {
     "iopub.execute_input": "2024-01-17T14:14:54.691881Z",
     "iopub.status.busy": "2024-01-17T14:14:54.691322Z",
     "iopub.status.idle": "2024-01-17T14:14:56.818942Z",
     "shell.execute_reply": "2024-01-17T14:14:56.817875Z",
     "shell.execute_reply.started": "2024-01-17T14:14:54.691841Z"
    }
   },
   "outputs": [],
   "source": [
    "# input the land mask\n",
    "land_mask = xr.open_dataset(\"/data0/yxia/TCGI/mask/LandMask_2deg.nc\").lsm"
   ]
  },
  {
   "cell_type": "code",
   "execution_count": 6,
   "id": "471ff3f1-5abf-4cc1-b38d-51c6f9b40694",
   "metadata": {
    "collapsed": true,
    "execution": {
     "iopub.execute_input": "2024-01-17T14:50:56.422300Z",
     "iopub.status.busy": "2024-01-17T14:50:56.421308Z",
     "iopub.status.idle": "2024-01-17T15:35:04.205048Z",
     "shell.execute_reply": "2024-01-17T15:35:04.204178Z",
     "shell.execute_reply.started": "2024-01-17T14:50:56.422249Z"
    },
    "jupyter": {
     "outputs_hidden": true
    },
    "scrolled": true
   },
   "outputs": [
    {
     "name": "stdout",
     "output_type": "stream",
     "text": [
      "### START 2deg highres_hm_HadGEM3-GC31-HM_r1i1p1f1\n",
      "SAVED 2deg HadGEM3-GC31-HM_r1i1p1f1_avort\n",
      "SAVED 2deg HadGEM3-GC31-HM_r1i1p1f1_crh\n",
      "SAVED 2deg HadGEM3-GC31-HM_r1i1p1f1_sd\n",
      "SAVED 2deg HadGEM3-GC31-HM_r1i1p1f1_PI\n",
      "SAVED 2deg HadGEM3-GC31-HM_r1i1p1f1_ws\n",
      "\n",
      "### START 2deg highres_hm_HadGEM3-GC31-HM_r1i2p1f1\n",
      "SAVED 2deg HadGEM3-GC31-HM_r1i2p1f1_avort\n",
      "SAVED 2deg HadGEM3-GC31-HM_r1i2p1f1_crh\n",
      "SAVED 2deg HadGEM3-GC31-HM_r1i2p1f1_sd\n",
      "SAVED 2deg HadGEM3-GC31-HM_r1i2p1f1_PI\n",
      "SAVED 2deg HadGEM3-GC31-HM_r1i2p1f1_ws\n",
      "\n",
      "### START 2deg highres_hm_HadGEM3-GC31-HM_r1i3p1f1\n",
      "SAVED 2deg HadGEM3-GC31-HM_r1i3p1f1_avort\n",
      "SAVED 2deg HadGEM3-GC31-HM_r1i3p1f1_crh\n",
      "SAVED 2deg HadGEM3-GC31-HM_r1i3p1f1_sd\n",
      "SAVED 2deg HadGEM3-GC31-HM_r1i3p1f1_PI\n",
      "SAVED 2deg HadGEM3-GC31-HM_r1i3p1f1_ws\n",
      "\n",
      "### START 2deg highresSST_hm_HadGEM3-GC31-HM_r1i1p1f1\n",
      "SAVED 2deg HadGEM3-GC31-HM_r1i1p1f1_avort\n",
      "SAVED 2deg HadGEM3-GC31-HM_r1i1p1f1_crh\n",
      "SAVED 2deg HadGEM3-GC31-HM_r1i1p1f1_sd\n",
      "SAVED 2deg HadGEM3-GC31-HM_r1i1p1f1_PI\n",
      "SAVED 2deg HadGEM3-GC31-HM_r1i1p1f1_ws\n",
      "\n",
      "### START 2deg highresSST_hm_HadGEM3-GC31-HM_r1i2p1f1\n",
      "SAVED 2deg HadGEM3-GC31-HM_r1i2p1f1_avort\n",
      "SAVED 2deg HadGEM3-GC31-HM_r1i2p1f1_crh\n",
      "SAVED 2deg HadGEM3-GC31-HM_r1i2p1f1_sd\n",
      "SAVED 2deg HadGEM3-GC31-HM_r1i2p1f1_PI\n",
      "SAVED 2deg HadGEM3-GC31-HM_r1i2p1f1_ws\n",
      "\n",
      "### START 2deg highresSST_hm_HadGEM3-GC31-HM_r1i3p1f1\n",
      "SAVED 2deg HadGEM3-GC31-HM_r1i3p1f1_avort\n",
      "SAVED 2deg HadGEM3-GC31-HM_r1i3p1f1_crh\n",
      "SAVED 2deg HadGEM3-GC31-HM_r1i3p1f1_sd\n",
      "SAVED 2deg HadGEM3-GC31-HM_r1i3p1f1_PI\n",
      "SAVED 2deg HadGEM3-GC31-HM_r1i3p1f1_ws\n",
      "\n",
      "### START 2deg highres_sm_HadGEM3-GC31-HM_r1i1p1f1\n",
      "SAVED 2deg HadGEM3-GC31-HM_r1i1p1f1_avort\n",
      "SAVED 2deg HadGEM3-GC31-HM_r1i1p1f1_crh\n",
      "SAVED 2deg HadGEM3-GC31-HM_r1i1p1f1_sd\n",
      "SAVED 2deg HadGEM3-GC31-HM_r1i1p1f1_PI\n",
      "SAVED 2deg HadGEM3-GC31-HM_r1i1p1f1_ws\n",
      "\n",
      "### START 2deg highres_sm_HadGEM3-GC31-HM_r1i2p1f1\n",
      "SAVED 2deg HadGEM3-GC31-HM_r1i2p1f1_avort\n",
      "SAVED 2deg HadGEM3-GC31-HM_r1i2p1f1_crh\n",
      "SAVED 2deg HadGEM3-GC31-HM_r1i2p1f1_sd\n",
      "SAVED 2deg HadGEM3-GC31-HM_r1i2p1f1_PI\n",
      "SAVED 2deg HadGEM3-GC31-HM_r1i2p1f1_ws\n",
      "\n",
      "### START 2deg highres_sm_HadGEM3-GC31-HM_r1i3p1f1\n",
      "SAVED 2deg HadGEM3-GC31-HM_r1i3p1f1_avort\n",
      "SAVED 2deg HadGEM3-GC31-HM_r1i3p1f1_crh\n",
      "SAVED 2deg HadGEM3-GC31-HM_r1i3p1f1_sd\n",
      "SAVED 2deg HadGEM3-GC31-HM_r1i3p1f1_PI\n",
      "SAVED 2deg HadGEM3-GC31-HM_r1i3p1f1_ws\n",
      "\n",
      "### START 2deg highresSST_sm_HadGEM3-GC31-HM_r1i1p1f1\n",
      "SAVED 2deg HadGEM3-GC31-HM_r1i1p1f1_avort\n",
      "SAVED 2deg HadGEM3-GC31-HM_r1i1p1f1_crh\n",
      "SAVED 2deg HadGEM3-GC31-HM_r1i1p1f1_sd\n",
      "SAVED 2deg HadGEM3-GC31-HM_r1i1p1f1_PI\n",
      "SAVED 2deg HadGEM3-GC31-HM_r1i1p1f1_ws\n",
      "\n",
      "### START 2deg highresSST_sm_HadGEM3-GC31-HM_r1i2p1f1\n",
      "SAVED 2deg HadGEM3-GC31-HM_r1i2p1f1_avort\n",
      "SAVED 2deg HadGEM3-GC31-HM_r1i2p1f1_crh\n",
      "SAVED 2deg HadGEM3-GC31-HM_r1i2p1f1_sd\n",
      "SAVED 2deg HadGEM3-GC31-HM_r1i2p1f1_PI\n",
      "SAVED 2deg HadGEM3-GC31-HM_r1i2p1f1_ws\n",
      "\n",
      "### START 2deg highresSST_sm_HadGEM3-GC31-HM_r1i3p1f1\n",
      "SAVED 2deg HadGEM3-GC31-HM_r1i3p1f1_avort\n",
      "SAVED 2deg HadGEM3-GC31-HM_r1i3p1f1_crh\n",
      "SAVED 2deg HadGEM3-GC31-HM_r1i3p1f1_sd\n",
      "SAVED 2deg HadGEM3-GC31-HM_r1i3p1f1_PI\n",
      "SAVED 2deg HadGEM3-GC31-HM_r1i3p1f1_ws\n",
      "\n"
     ]
    }
   ],
   "source": [
    "for iexp in experiments:\n",
    "    for imodel, iens in zip(models[2:5], ens[2:5]):\n",
    "        ds = {}\n",
    "        if not os.path.exists(f\"/data0/yxia/TCGI/{imodel}/{iens}/avort/avort_{imodel}_{iens}_{iexp}.nc\"):\n",
    "            # If the file does not exist, skip this iteration of the loop\n",
    "            print(f'### NO data for {iexp}_{imodel}_{iens}\\n')\n",
    "            continue\n",
    "\n",
    "        print(f'### START 2deg {iexp}_{imodel}_{iens}')\n",
    "        for input_var in input:\n",
    "            # Input data listed above\n",
    "            file_path = f\"/data0/yxia/TCGI/{imodel}/{iens}/{input_var}/{input_var}_{imodel}_{iens}_{iexp}.nc\"\n",
    "            if input_var in ['swv', 'prw', 'PI']:\n",
    "                ds_raw = replace_land(file_path, imodel, input_var)\n",
    "            else:\n",
    "                ds_raw = xr.open_dataset(file_path)[input_var]\n",
    "            # Regrid and store in dsr\n",
    "            regridder = xe.Regridder(ds_raw, ds_out, 'bilinear', periodic=True)\n",
    "            dsr = regridder(ds_raw)\n",
    "            # mask the land\n",
    "            ds[f\"{input_var}\"] = dsr.where(~np.isnan(land_mask), other=np.nan)\n",
    "\n",
    "        # del ds_raw, dsr, regridder\n",
    "\n",
    "        # Calculate variables and change units \n",
    "        avort = abs(ds['avort'] * 1e+5).clip(min=None, max=3.7)   # [10-5 * s-1]\n",
    "        crh = ds['prw'] / ds['swv'] * 100     # [%]\n",
    "        sd = ds['prw'] - ds['swv']            # [g m-2]\n",
    "        PI = ds['PI']   # [m s-1]\n",
    "        ws = ds['ws']   # [m s-1]\n",
    "        del ds\n",
    "        \n",
    "        # Assign attributes to each variable\n",
    "        attributes = {\n",
    "            'avort': {'units': '10-5 * s-1', \n",
    "                      'calculation': 'take the magitude of absolute vorticity and clip at 3.7'},\n",
    "            'crh': {'units': '%', \n",
    "                    'calculation': 'atmosphere_water_vapor / saturated_water_vapor * 100'},\n",
    "            'sd': {'units': 'kg m-2', \n",
    "                   'calculation': 'atmosphere_water_vapor - saturated_water_vapor'},\n",
    "            'PI': {'units': 'm s-1', \n",
    "                   'calculation': 'PI_vmax'},\n",
    "            'ws': {'units': 'm s-1', \n",
    "                   'calculation': 'wind_shear'}\n",
    "        }\n",
    "\n",
    "        # Save regridded & masked files to /data0/yxia/TCGI/2deg\n",
    "        for var in output:\n",
    "            eval(var).attrs['units'] = attributes[var]['units']\n",
    "            eval(var).attrs['calculation'] = attributes[var]['calculation']\n",
    "            eval(var).rename(var).to_netcdf(f\"/data0/yxia/TCGI/2deg/{imodel}/{iens}/{var}/{var}_{imodel}_{iens}_{iexp}_2deg.nc\", \\\n",
    "                                            encoding={f'{var}': {'zlib': True, 'complevel': 5}}, mode=\"w\")\n",
    "            print(f'SAVED 2deg {imodel}_{iens}_{var}')\n",
    "        print('')\n",
    "        del avort, crh, sd, PI, ws"
   ]
  },
  {
   "cell_type": "markdown",
   "id": "cc9d9f71-9de8-409a-8d88-24c08480dca5",
   "metadata": {},
   "source": [
    "### 2. Calculate climatology of year 1981-2010 (12 months)\n",
    "Note: if one model has multiple ensembles, the climatology is multi-ensemble mean."
   ]
  },
  {
   "cell_type": "code",
   "execution_count": 7,
   "id": "d8d03d63-faa1-4a6b-bc8e-b8ae4bdc1077",
   "metadata": {
    "execution": {
     "iopub.execute_input": "2024-01-17T15:39:22.658878Z",
     "iopub.status.busy": "2024-01-17T15:39:22.658252Z",
     "iopub.status.idle": "2024-01-17T15:39:22.668512Z",
     "shell.execute_reply": "2024-01-17T15:39:22.667421Z",
     "shell.execute_reply.started": "2024-01-17T15:39:22.658833Z"
    }
   },
   "outputs": [],
   "source": [
    "def find_files(path, name_pattern):\n",
    "    # Create a pattern that matches the files in the provided path and all subdirectories\n",
    "    full_pattern = os.path.join(path, '**', name_pattern)\n",
    "\n",
    "    # Use glob.glob with recursive=True to search in subdirectories\n",
    "    files = glob.glob(full_pattern, recursive=True)\n",
    "    return files\n",
    "\n",
    "def get_ens_clim(files):\n",
    "    # function to get the ensemble mean climatology\n",
    "    monthly_clim = []\n",
    "    for file in files:\n",
    "        ds = xr.open_dataset(file)\n",
    "        monthly_mean = ds.sel(time=slice('1981', '2010')).groupby('time.month').mean()\n",
    "        monthly_clim.append(monthly_mean)\n",
    "    # Combine all the monthly means and calculate the average across all files\n",
    "    ds_clim = sum(monthly_clim) / len(monthly_clim)\n",
    "    return ds_clim"
   ]
  },
  {
   "cell_type": "code",
   "execution_count": 13,
   "id": "acb6b88b-0b33-47ae-84f8-104c3fa50e84",
   "metadata": {
    "execution": {
     "iopub.execute_input": "2024-01-17T15:49:22.777756Z",
     "iopub.status.busy": "2024-01-17T15:49:22.777134Z",
     "iopub.status.idle": "2024-01-17T15:49:37.949875Z",
     "shell.execute_reply": "2024-01-17T15:49:37.949194Z",
     "shell.execute_reply.started": "2024-01-17T15:49:22.777715Z"
    }
   },
   "outputs": [
    {
     "name": "stdout",
     "output_type": "stream",
     "text": [
      "### START clim highres-HadGEM3-GC31-HM-r1i1p1f1\n",
      "SAVED clim HadGEM3-GC31-HM_avort\n",
      "SAVED clim HadGEM3-GC31-HM_crh\n",
      "SAVED clim HadGEM3-GC31-HM_sd\n",
      "SAVED clim HadGEM3-GC31-HM_PI\n",
      "SAVED clim HadGEM3-GC31-HM_ws\n",
      "\n",
      "### START clim highresSST-HadGEM3-GC31-HM-r1i1p1f1\n",
      "SAVED clim HadGEM3-GC31-HM_avort\n",
      "SAVED clim HadGEM3-GC31-HM_crh\n",
      "SAVED clim HadGEM3-GC31-HM_sd\n",
      "SAVED clim HadGEM3-GC31-HM_PI\n",
      "SAVED clim HadGEM3-GC31-HM_ws\n",
      "\n"
     ]
    }
   ],
   "source": [
    "for iexp_clim in experiments_clim:\n",
    "    for imodel, iens in zip(models[2:3], ens[2:3]):    # only need one group of input for one model\n",
    "        print(f'### START clim {iexp_clim}-{imodel}-{iens}')\n",
    "        for var in output:\n",
    "            if imodel in ['MPI-ESM1-2-XR', 'CNRM-CM6-1-HR']:\n",
    "                ds = xr.open_dataset(f\"/data0/yxia/TCGI/2deg/{imodel}/{iens}/{var}/{var}_{imodel}_{iens}_{iexp_clim}_hm_2deg.nc\")\n",
    "                ds_clim = ds.sel(time=slice('1981', '2010')).groupby('time.month').mean()\n",
    "            else:\n",
    "                path = f'/data0/yxia/TCGI/2deg/{imodel}/'\n",
    "                name_pattern = f'{var}_{imodel}_*_{iexp_clim}_hm_2deg.nc'\n",
    "                my_files = find_files(path, name_pattern)\n",
    "                ds_clim = get_ens_clim(my_files)\n",
    "            ds_clim[var].attrs['Notes'] = 'Monthly climatology (year 1981-2010)'\n",
    "            ds_clim.to_netcdf(f\"/data0/yxia/TCGI/clim/clim_highres/{imodel}/{var}/{var}_{imodel}_{iexp_clim}_clim_1981_2010_2deg.nc\", \\\n",
    "                              encoding={f'{var}': {'zlib': True, 'complevel': 5}}, mode=\"w\")\n",
    "            print(f'SAVED clim {imodel}_{var}')\n",
    "        print('')\n",
    "del ds_clim"
   ]
  },
  {
   "cell_type": "markdown",
   "id": "425fadec-6344-41f9-a484-f2f0520aeeed",
   "metadata": {},
   "source": [
    "### If files (2deg & clim) are ready, run the code from here"
   ]
  },
  {
   "cell_type": "code",
   "execution_count": 2,
   "id": "0eb48683-ad17-4124-982d-8196338bb4a2",
   "metadata": {
    "execution": {
     "iopub.execute_input": "2024-02-29T03:52:26.796750Z",
     "iopub.status.busy": "2024-02-29T03:52:26.795733Z",
     "iopub.status.idle": "2024-02-29T03:52:26.804077Z",
     "shell.execute_reply": "2024-02-29T03:52:26.802785Z",
     "shell.execute_reply.started": "2024-02-29T03:52:26.796698Z"
    }
   },
   "outputs": [],
   "source": [
    "def add_climatology(month_group, climatology):\n",
    "    # Adjusted function to add climatology\n",
    "    \n",
    "    # Extract the month number from the group\n",
    "    month_num = month_group.time.dt.month.values[0]\n",
    "    \n",
    "    # Select the climatology data for the corresponding month\n",
    "    climatology_month = climatology.sel(month=month_num)\n",
    "    \n",
    "    # Add the climatology to the month_group\n",
    "    # The 'align' function ensures that the lat and lon dimensions match\n",
    "    month_group, climatology_month = xr.align(month_group, climatology_month)\n",
    "    return month_group + climatology_month"
   ]
  },
  {
   "cell_type": "code",
   "execution_count": 5,
   "id": "8168c5c9-f629-491c-ba8b-f7cafb94e825",
   "metadata": {
    "execution": {
     "iopub.execute_input": "2024-02-29T03:52:48.204338Z",
     "iopub.status.busy": "2024-02-29T03:52:48.203698Z",
     "iopub.status.idle": "2024-02-29T03:52:50.332097Z",
     "shell.execute_reply": "2024-02-29T03:52:50.330970Z",
     "shell.execute_reply.started": "2024-02-29T03:52:48.204293Z"
    }
   },
   "outputs": [],
   "source": [
    "# Coefficients sequence:\n",
    "# [constant, vorticity, humidity, thermal, shear]\n",
    "b_crh = [-24.1323, 2.5120, 0.0770, 0.0622, -0.1202]   # CRH & PI\n",
    "b_sd = [-18.3563, 2.4829, 0.0735, 0.0798, -0.1346]   # SD & PI\n",
    "\n",
    "area = np.log(np.cos(np.deg2rad(ds_out.lat))*2*2)\n",
    "area_ext = np.tile(area, (101*12, len(ds_out.lon), 1)).transpose(0,2,1)  # Rearrange dimensions to (time, lat, lon)\n",
    "\n",
    "clim_era5 = {}\n",
    "for var in output:\n",
    "    clim_era5[f\"{var}\"] = xr.open_dataset(f\"/data0/yxia/TCGI/clim/clim_ERA5/{var}_ERA5_clim_1981_2010_2deg.nc\")"
   ]
  },
  {
   "cell_type": "code",
   "execution_count": 19,
   "id": "92409b8c-7aca-4dcf-b04b-9e1c77cfa40b",
   "metadata": {
    "execution": {
     "iopub.execute_input": "2024-02-29T04:20:05.998470Z",
     "iopub.status.busy": "2024-02-29T04:20:05.997563Z",
     "iopub.status.idle": "2024-02-29T04:37:08.874529Z",
     "shell.execute_reply": "2024-02-29T04:37:08.873624Z",
     "shell.execute_reply.started": "2024-02-29T04:20:05.998428Z"
    }
   },
   "outputs": [
    {
     "name": "stdout",
     "output_type": "stream",
     "text": [
      "GET correction for CNRM-CM6-1-HR\n",
      "Correction added for CNRM-CM6-1-HR-r1i1p1f2\n",
      "SAVED TCGI highres CNRM-CM6-1-HR_r1i1p1f2\n",
      "SAVED TCGI highresSST CNRM-CM6-1-HR_r1i1p1f2\n",
      " \n",
      "GET correction for HadGEM3-GC31-HM\n",
      "Correction added for HadGEM3-GC31-HM-r1i1p1f1\n",
      "SAVED TCGI highres HadGEM3-GC31-HM_r1i1p1f1\n",
      "SAVED TCGI highresSST HadGEM3-GC31-HM_r1i1p1f1\n",
      " \n",
      "GET correction for HadGEM3-GC31-HM\n",
      "Correction added for HadGEM3-GC31-HM-r1i2p1f1\n",
      "SAVED TCGI highres HadGEM3-GC31-HM_r1i2p1f1\n",
      "SAVED TCGI highresSST HadGEM3-GC31-HM_r1i2p1f1\n",
      " \n",
      "GET correction for HadGEM3-GC31-HM\n",
      "Correction added for EC-Earth3P-HR-r1i1p1f1\n",
      "SAVED TCGI highres EC-Earth3P-HR_r1i1p1f1\n",
      "SAVED TCGI highresSST EC-Earth3P-HR_r1i1p1f1\n",
      " \n",
      "GET correction for EC-Earth3P-HR\n",
      "Correction added for EC-Earth3P-HR-r2i1p1f1\n",
      "SAVED TCGI highres EC-Earth3P-HR_r2i1p1f1\n",
      "SAVED TCGI highresSST EC-Earth3P-HR_r2i1p1f1\n",
      " \n",
      "GET correction for EC-Earth3P-HR\n",
      "Correction added for EC-Earth3P-HR-r1i1p1f1\n",
      "SAVED TCGI highres EC-Earth3P-HR_r1i1p1f1\n",
      "SAVED TCGI highresSST EC-Earth3P-HR_r1i1p1f1\n",
      " \n",
      "GET correction for EC-Earth3P-HR\n",
      "Correction added for EC-Earth3P-HR-r2i1p1f1\n",
      "SAVED TCGI highres EC-Earth3P-HR_r2i1p1f1\n",
      "SAVED TCGI highresSST EC-Earth3P-HR_r2i1p1f1\n",
      " \n"
     ]
    }
   ],
   "source": [
    "for imodel, iens in zip(models[1:], ens[1:]): # Only select the first two ensembles for EC model\n",
    "    '''\n",
    "    3. Subtract ERA5 climatology from calculated highresmip climatology\n",
    "    (Because we'll use coeffient b from ERA5 later.\n",
    "     Step 3 & 4 are for fixing the bias between the model and ERA5)\n",
    "    '''\n",
    "    clim_high = {}; clim_highSST = {}; cor_highres = {}; cor_highresSST = {};\n",
    "    for var in output:\n",
    "        clim_high[f\"{var}\"] = xr.open_dataset(f\"/data0/yxia/TCGI/clim/clim_highres/{imodel}/{var}/{var}_{imodel}_highres_clim_1981_2010_2deg.nc\")\n",
    "        clim_highSST[f\"{var}\"] = xr.open_dataset(f\"/data0/yxia/TCGI/clim/clim_highres/{imodel}/{var}/{var}_{imodel}_highresSST_clim_1981_2010_2deg.nc\")\n",
    "        cor_highres[f\"{var}\"] = clim_era5[f\"{var}\"][var] - clim_high[f\"{var}\"][var]\n",
    "        cor_highresSST[f\"{var}\"] = clim_era5[f\"{var}\"][var] - clim_highSST[f\"{var}\"][var]\n",
    "    print(f'GET correction for {imodel}')\n",
    "\n",
    "    '''\n",
    "    4. Add correction term to highres data\n",
    "    '''\n",
    "    bc_highres_hm = {}; bc_highresSST_hm = {}; bc_highres_sm = {}; bc_highresSST_sm = {}\n",
    "    bc_ds = [bc_highres_hm, bc_highresSST_hm, bc_highres_sm, bc_highresSST_sm]\n",
    "    \n",
    "    for iexp, ibc_ds in zip(experiments, bc_ds):\n",
    "        if imodel == 'EC-Earth3P-HR' and iexp in ['highresSST_hm', 'highresSST_sm']:\n",
    "            iens = re.sub(r'p\\d', 'p1', iens) # change the number after 'p' to '1'\n",
    "        elif imodel == 'EC-Earth3P-HR' and iexp in ['highres_hm', 'highres_sm']:\n",
    "            iens = re.sub(r'p\\d', 'p2', iens)\n",
    "        for var in output:\n",
    "            # Apply the add_climatology function to each month\n",
    "            ori_ds = xr.open_dataset(f\"/data0/yxia/TCGI/2deg/{imodel}/{iens}/{var}/{var}_{imodel}_{iens}_{iexp}_2deg.nc\")[var]\n",
    "            correction = cor_highres if iexp in ['highres_hm', 'highres_sm'] else cor_highresSST\n",
    "            ibc_ds[f\"{var}\"] = ori_ds.groupby('time.month').apply(add_climatology, climatology=correction[f\"{var}\"])\n",
    "    print(f'Correction added for {imodel}-{iens}')\n",
    "\n",
    "    # Combine historial and future simulations along time series\n",
    "    # store them into bc_full\n",
    "    bc_highres = {}; bc_highresSST = {}\n",
    "    bc_full = [bc_highres, bc_highresSST]\n",
    "\n",
    "    for iexp_clim in range(2):   # loop for highres & highresSST\n",
    "        for var in output:\n",
    "            if 'lev' in bc_highres_hm[var].coords:\n",
    "                hm = bc_ds[iexp_clim][var].drop_vars(['month', 'lev'])\n",
    "                sm = bc_ds[iexp_clim+2][var].drop_vars(['month', 'lev'])\n",
    "            elif 'plev' in bc_highres_hm[var].coords:\n",
    "                hm = bc_ds[iexp_clim][var].drop_vars(['month', 'plev'])\n",
    "                sm = bc_ds[iexp_clim+2][var].drop_vars(['month', 'plev'])\n",
    "            else:\n",
    "                hm = bc_ds[iexp_clim][var].drop_vars(['month'])\n",
    "                sm = bc_ds[iexp_clim+2][var].drop_vars(['month'])\n",
    "            combined_ds = xr.concat([hm, sm], dim='time')\n",
    "            bc_full[iexp_clim][f'{var}'] = combined_ds\n",
    "    del bc_ds\n",
    "\n",
    "    '''\n",
    "    5. Calculate TCGI\n",
    "    using coeffients get from ERA5 (2deg)\n",
    "    '''\n",
    "    offset = xr.DataArray(area_ext, dims=['time', 'lat', 'lon'], \n",
    "                          coords={'time':bc_full[0]['avort']['time'], 'lon': ds_out.lon, 'lat': ds_out.lat})\n",
    "\n",
    "    for iexp_clim in experiments_clim:   # loop for highres & highresSST\n",
    "        bc_now = eval('bc_'+iexp_clim)\n",
    "        with warnings.catch_warnings():\n",
    "            warnings.simplefilter(\"ignore\", RuntimeWarning)\n",
    "            mu_crh = np.exp(b_crh[0] + b_crh[1]*bc_now['avort'] + b_crh[2]*bc_now['crh'] + \n",
    "                            b_crh[3]*bc_now['PI'] + b_crh[4]*bc_now['ws'] + offset)\n",
    "            mu_sd = np.exp(b_sd[0] + b_sd[1]*bc_now['avort'] + b_sd[2]*bc_now['sd'] + \n",
    "                           b_sd[3]*bc_now['PI'] + b_sd[4]*bc_now['ws'] + offset)\n",
    "        if imodel in ['MPI-ESM1-2-XR', 'CNRM-CM6-1-HR']:\n",
    "            for var in output:\n",
    "                bc_now[var].to_netcdf(f\"/data0/yxia/TCGI/unbiased/{imodel}/{var}_{imodel}_{iexp_clim}.nc\", \\\n",
    "                                      encoding={f'{var}': {'zlib': True, 'complevel': 5}}, mode=\"w\")\n",
    "            # mu_crh.rename('TCGI').to_netcdf(f\"/data0/yxia/TCGI/TCGI/{imodel}/TCGI-CRH_{imodel}_{iexp_clim}.nc\", \\\n",
    "            #                                 encoding={'TCGI': {'zlib': True, 'complevel': 5}}, mode=\"w\")\n",
    "            # mu_sd.rename('TCGI').to_netcdf(f\"/data0/yxia/TCGI/TCGI/{imodel}/TCGI-SD_{imodel}_{iexp_clim}.nc\", \\\n",
    "            #                                 encoding={'TCGI': {'zlib': True, 'complevel': 5}}, mode=\"w\")\n",
    "        else:\n",
    "            for var in output:\n",
    "                bc_now[var].to_netcdf(f\"/data0/yxia/TCGI/unbiased/{imodel}/{var}_{imodel}_{iens}_{iexp_clim}.nc\", \\\n",
    "                                      encoding={f'{var}': {'zlib': True, 'complevel': 5}}, mode=\"w\")\n",
    "            # mu_crh.rename('TCGI').to_netcdf(f\"/data0/yxia/TCGI/TCGI/{imodel}/TCGI-CRH_{imodel}_{iens}_{iexp_clim}.nc\", \\\n",
    "            #                                 encoding={'TCGI': {'zlib': True, 'complevel': 5}}, mode=\"w\")\n",
    "            # mu_sd.rename('TCGI').to_netcdf(f\"/data0/yxia/TCGI/TCGI/{imodel}/TCGI-SD_{imodel}_{iens}_{iexp_clim}.nc\", \\\n",
    "            #                                 encoding={'TCGI': {'zlib': True, 'complevel': 5}}, mode=\"w\")\n",
    "        print(f\"SAVED TCGI {iexp_clim} {imodel}_{iens}\")\n",
    "    print(\" \")\n",
    "\n",
    "print(\"### DONE\")"
   ]
  },
  {
   "cell_type": "code",
   "execution_count": null,
   "id": "1afff1ef-09e3-4d72-85a2-07507fa89d62",
   "metadata": {
    "execution": {
     "iopub.execute_input": "2024-02-29T04:37:16.135211Z",
     "iopub.status.busy": "2024-02-29T04:37:16.134649Z"
    }
   },
   "outputs": [
    {
     "name": "stdout",
     "output_type": "stream",
     "text": [
      "SAVED avort Ensemble mean for HadGEM3-GC31-HM_highres\n",
      "SAVED crh Ensemble mean for HadGEM3-GC31-HM_highres\n",
      "SAVED sd Ensemble mean for HadGEM3-GC31-HM_highres\n",
      "SAVED PI Ensemble mean for HadGEM3-GC31-HM_highres\n",
      "SAVED ws Ensemble mean for HadGEM3-GC31-HM_highres\n",
      "SAVED avort Ensemble mean for HadGEM3-GC31-HM_highresSST\n",
      "SAVED crh Ensemble mean for HadGEM3-GC31-HM_highresSST\n",
      "SAVED sd Ensemble mean for HadGEM3-GC31-HM_highresSST\n",
      "SAVED PI Ensemble mean for HadGEM3-GC31-HM_highresSST\n",
      "SAVED ws Ensemble mean for HadGEM3-GC31-HM_highresSST\n",
      "SAVED avort Ensemble mean for EC-Earth3P-HR_highres\n",
      "SAVED crh Ensemble mean for EC-Earth3P-HR_highres\n",
      "SAVED sd Ensemble mean for EC-Earth3P-HR_highres\n",
      "SAVED PI Ensemble mean for EC-Earth3P-HR_highres\n",
      "SAVED ws Ensemble mean for EC-Earth3P-HR_highres\n",
      "SAVED avort Ensemble mean for EC-Earth3P-HR_highresSST\n",
      "SAVED crh Ensemble mean for EC-Earth3P-HR_highresSST\n",
      "SAVED sd Ensemble mean for EC-Earth3P-HR_highresSST\n"
     ]
    }
   ],
   "source": [
    "for imodel in ['HadGEM3-GC31-HM', 'EC-Earth3P-HR']:\n",
    "    for iexp_clim in experiments_clim:\n",
    "        for var in output:\n",
    "            path = f'/data0/yxia/TCGI/unbiased/{imodel}/'\n",
    "            name_pattern = f'{var}_{imodel}_*_{iexp_clim}.nc'\n",
    "            my_files = find_files(path, name_pattern)\n",
    "            ens_mean = get_ens_mean(my_files)\n",
    "            ens_mean.to_netcdf(f\"/data0/yxia/TCGI/unbiased/{imodel}/{var}_{imodel}_{iexp_clim}.nc\", \n",
    "                               encoding={f'{var}': {'zlib': True, 'complevel': 5}}, mode=\"w\")\n",
    "            print(f\"SAVED {var} Ensemble mean for {imodel}_{iexp_clim}\")"
   ]
  },
  {
   "cell_type": "code",
   "execution_count": 16,
   "id": "4546f2e5-2cc1-454b-bc76-3c4c603cee9f",
   "metadata": {
    "execution": {
     "iopub.execute_input": "2024-01-17T15:57:45.722542Z",
     "iopub.status.busy": "2024-01-17T15:57:45.721979Z",
     "iopub.status.idle": "2024-01-17T15:58:42.476835Z",
     "shell.execute_reply": "2024-01-17T15:58:42.475991Z",
     "shell.execute_reply.started": "2024-01-17T15:57:45.722506Z"
    }
   },
   "outputs": [
    {
     "name": "stdout",
     "output_type": "stream",
     "text": [
      "SAVED TCGI Ensemble mean for HadGEM3-GC31-HM_highres\n",
      "SAVED TCGI Ensemble mean for HadGEM3-GC31-HM_highres\n",
      "SAVED TCGI Ensemble mean for HadGEM3-GC31-HM_highresSST\n",
      "SAVED TCGI Ensemble mean for HadGEM3-GC31-HM_highresSST\n",
      "SAVED TCGI Ensemble mean for EC-Earth3P-HR_highres\n",
      "SAVED TCGI Ensemble mean for EC-Earth3P-HR_highres\n",
      "SAVED TCGI Ensemble mean for EC-Earth3P-HR_highresSST\n",
      "SAVED TCGI Ensemble mean for EC-Earth3P-HR_highresSST\n"
     ]
    }
   ],
   "source": [
    "for imodel in ['HadGEM3-GC31-HM', 'EC-Earth3P-HR']:\n",
    "    for iexp_clim in experiments_clim:\n",
    "        for itype in ['CRH', 'SD']:\n",
    "            path = f'/data0/yxia/TCGI/TCGI/{imodel}/'\n",
    "            name_pattern = f'TCGI-{itype}_{imodel}_*_{iexp_clim}.nc'\n",
    "            my_files = find_files(path, name_pattern)\n",
    "            ens_mean = get_ens_mean(my_files)\n",
    "            ens_mean.to_netcdf(f\"/data0/yxia/TCGI/TCGI/{imodel}/TCGI-{itype}_{imodel}_{iexp_clim}.nc\", \n",
    "                               encoding={'TCGI': {'zlib': True, 'complevel': 5}}, mode=\"w\")\n",
    "            print(f\"SAVED TCGI Ensemble mean for {imodel}_{iexp_clim}\")"
   ]
  }
 ],
 "metadata": {
  "kernelspec": {
   "display_name": "Python 3 (ipykernel)",
   "language": "python",
   "name": "python3"
  },
  "language_info": {
   "codemirror_mode": {
    "name": "ipython",
    "version": 3
   },
   "file_extension": ".py",
   "mimetype": "text/x-python",
   "name": "python",
   "nbconvert_exporter": "python",
   "pygments_lexer": "ipython3",
   "version": "3.11.5"
  }
 },
 "nbformat": 4,
 "nbformat_minor": 5
}
